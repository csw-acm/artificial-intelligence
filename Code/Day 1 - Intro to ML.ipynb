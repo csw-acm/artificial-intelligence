{
 "cells": [
  {
   "cell_type": "markdown",
   "metadata": {},
   "source": [
    "# Intro to Machine Learning (ML)\n",
    "\n",
    "This Jupyter notebook will help get you setup with a very basic machine learning project! Today, we'll be learning how to classify flowers using a simple linear classifier model.\n",
    "\n",
    "Prerequisites:\n",
    "\n",
    "- Basic Python knowledge\n",
    "- Information provided on the corresponding slides about ML\n",
    "\n",
    "Setup:\n",
    "\n",
    "1. Download Python 3 from https://www.python.org/downloads/\n",
    "\n",
    "2. Using a command prompt, run the command:\n",
    "``pip install numpy scikit-learn --user``"
   ]
  },
  {
   "cell_type": "code",
   "execution_count": 84,
   "metadata": {},
   "outputs": [],
   "source": [
    "# Basic imports you'll use in most elementary machine learning projects\n",
    "\n",
    "import numpy as np # NumPy is an efficient library for running matrix operations and other math in Python\n",
    "import sklearn # Scikit Learn implements many machine learning algorithms for easy use"
   ]
  },
  {
   "cell_type": "code",
   "execution_count": 85,
   "metadata": {},
   "outputs": [],
   "source": [
    "from sklearn.datasets import load_iris # Iris flower dataset"
   ]
  },
  {
   "cell_type": "code",
   "execution_count": 86,
   "metadata": {},
   "outputs": [],
   "source": [
    "from sklearn.linear_model import SGDClassifier # A simple linear classifier"
   ]
  },
  {
   "cell_type": "code",
   "execution_count": 87,
   "metadata": {},
   "outputs": [],
   "source": [
    "X, y = load_iris(return_X_y=True) # Loading the Iris Dataset into X inputs and y targets\n",
    "\n",
    "num_examples = X.shape[0] # retrieve the number of elements we have in the dataset\n",
    "\n",
    "\n",
    "# Randomly shuffling the data for better training\n",
    "indexes = np.random.permutation(np.arange(num_examples))\n",
    "X = X[indexes]\n",
    "y = y[indexes]\n",
    "\n",
    "# Splitting the data into training and test sets\n",
    "\n",
    "X_train, X_test = X[:120], X[120:]\n",
    "y_train, y_test = y[:120], y[120:]"
   ]
  },
  {
   "cell_type": "code",
   "execution_count": 88,
   "metadata": {},
   "outputs": [
    {
     "name": "stdout",
     "output_type": "stream",
     "text": [
      "[[5.9 3.2 4.8 1.8]\n",
      " [6.7 2.5 5.8 1.8]\n",
      " [6.1 2.9 4.7 1.4]\n",
      " [7.7 3.  6.1 2.3]\n",
      " [6.1 3.  4.6 1.4]\n",
      " [6.5 3.  5.8 2.2]\n",
      " [6.7 3.3 5.7 2.1]\n",
      " [5.9 3.  5.1 1.8]\n",
      " [6.5 3.  5.5 1.8]\n",
      " [5.7 2.5 5.  2. ]]\n"
     ]
    }
   ],
   "source": [
    "print(X_train[:10]) # Viewing the first 10 items in the dataset "
   ]
  },
  {
   "cell_type": "code",
   "execution_count": 89,
   "metadata": {},
   "outputs": [
    {
     "name": "stdout",
     "output_type": "stream",
     "text": [
      "[1 2 1 2 1 2 2 2 2 2]\n"
     ]
    }
   ],
   "source": [
    "print(y_train[:10]) # 0's, 1's, and 2's indicate the type of flower each  "
   ]
  },
  {
   "cell_type": "code",
   "execution_count": 90,
   "metadata": {},
   "outputs": [
    {
     "data": {
      "text/plain": [
       "SGDClassifier(alpha=0.0001, average=False, class_weight=None, epsilon=0.1,\n",
       "       eta0=0.0, fit_intercept=True, l1_ratio=0.15,\n",
       "       learning_rate='optimal', loss='log', max_iter=1000, n_iter=None,\n",
       "       n_jobs=1, penalty='l2', power_t=0.5, random_state=None,\n",
       "       shuffle=True, tol=None, verbose=0, warm_start=False)"
      ]
     },
     "execution_count": 90,
     "metadata": {},
     "output_type": "execute_result"
    }
   ],
   "source": [
    "# Setting up the classifier with log loss (common for classification) and 1000 iterations of the training\n",
    "classifier = SGDClassifier(loss='log', max_iter=1000) \n",
    "\n",
    "\n",
    "# Train the classifier on the training set\n",
    "classifier.fit(X_train, y_train)"
   ]
  },
  {
   "cell_type": "code",
   "execution_count": 91,
   "metadata": {},
   "outputs": [
    {
     "data": {
      "text/plain": [
       "array([1, 2, 1, 2, 1, 2, 2, 2, 2, 2])"
      ]
     },
     "execution_count": 91,
     "metadata": {},
     "output_type": "execute_result"
    }
   ],
   "source": [
    "classifier.predict(X_train[:10]) # Our classifier successfully learned the first 10 training examples!"
   ]
  },
  {
   "cell_type": "code",
   "execution_count": 93,
   "metadata": {},
   "outputs": [
    {
     "name": "stdout",
     "output_type": "stream",
     "text": [
      "Accuracy: 0.9666666666666667\n"
     ]
    }
   ],
   "source": [
    "# Let's test the classifier on the test set we set aside earlier\n",
    "\n",
    "accuracy = classifier.score(X_test, y_test)\n",
    "print(\"Accuracy:\",accuracy)"
   ]
  },
  {
   "cell_type": "markdown",
   "metadata": {},
   "source": [
    "96.7% accuracy! That's great!\n",
    "\n",
    "### Congratulations! You've just created your first machine learning project using Scikit Learn!\n",
    "\n",
    "Try using linear classification on other datasets and see how it goes!"
   ]
  }
 ],
 "metadata": {
  "kernelspec": {
   "display_name": "Python 3",
   "language": "python",
   "name": "python3"
  },
  "language_info": {
   "codemirror_mode": {
    "name": "ipython",
    "version": 3
   },
   "file_extension": ".py",
   "mimetype": "text/x-python",
   "name": "python",
   "nbconvert_exporter": "python",
   "pygments_lexer": "ipython3",
   "version": "3.7.0"
  }
 },
 "nbformat": 4,
 "nbformat_minor": 2
}
